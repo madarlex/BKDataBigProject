{
 "cells": [
  {
   "cell_type": "code",
   "execution_count": 1,
   "metadata": {},
   "outputs": [],
   "source": [
    "import numpy as np\n",
    "import pandas as pd"
   ]
  },
  {
   "cell_type": "code",
   "execution_count": 5,
   "metadata": {},
   "outputs": [
    {
     "data": {
      "text/html": [
       "<div>\n",
       "<style scoped>\n",
       "    .dataframe tbody tr th:only-of-type {\n",
       "        vertical-align: middle;\n",
       "    }\n",
       "\n",
       "    .dataframe tbody tr th {\n",
       "        vertical-align: top;\n",
       "    }\n",
       "\n",
       "    .dataframe thead th {\n",
       "        text-align: right;\n",
       "    }\n",
       "</style>\n",
       "<table border=\"1\" class=\"dataframe\">\n",
       "  <thead>\n",
       "    <tr style=\"text-align: right;\">\n",
       "      <th></th>\n",
       "      <th>id</th>\n",
       "      <th>name</th>\n",
       "      <th>age</th>\n",
       "      <th>email</th>\n",
       "      <th>address</th>\n",
       "      <th>phone</th>\n",
       "      <th>identity_card</th>\n",
       "    </tr>\n",
       "  </thead>\n",
       "  <tbody>\n",
       "    <tr>\n",
       "      <th>0</th>\n",
       "      <td>0</td>\n",
       "      <td>patient_0</td>\n",
       "      <td>54</td>\n",
       "      <td>patient_0@gmail.com</td>\n",
       "      <td>AZOVOrpkizfUgJXmKXBk</td>\n",
       "      <td>9273052306</td>\n",
       "      <td>74598529</td>\n",
       "    </tr>\n",
       "    <tr>\n",
       "      <th>1</th>\n",
       "      <td>1</td>\n",
       "      <td>patient_1</td>\n",
       "      <td>40</td>\n",
       "      <td>patient_1@gmail.com</td>\n",
       "      <td>stWWEPfuBZaDaYdcBmdE</td>\n",
       "      <td>1243725756</td>\n",
       "      <td>99139381</td>\n",
       "    </tr>\n",
       "    <tr>\n",
       "      <th>2</th>\n",
       "      <td>2</td>\n",
       "      <td>patient_2</td>\n",
       "      <td>33</td>\n",
       "      <td>patient_2@gmail.com</td>\n",
       "      <td>ttUjyQvdqdKadGtRCxqG</td>\n",
       "      <td>8135487646</td>\n",
       "      <td>14560831</td>\n",
       "    </tr>\n",
       "    <tr>\n",
       "      <th>3</th>\n",
       "      <td>3</td>\n",
       "      <td>patient_3</td>\n",
       "      <td>60</td>\n",
       "      <td>patient_3@gmail.com</td>\n",
       "      <td>ZlYtQUpCTKnoNJSlxwOm</td>\n",
       "      <td>4785114259</td>\n",
       "      <td>57731350</td>\n",
       "    </tr>\n",
       "    <tr>\n",
       "      <th>4</th>\n",
       "      <td>4</td>\n",
       "      <td>patient_4</td>\n",
       "      <td>72</td>\n",
       "      <td>patient_4@gmail.com</td>\n",
       "      <td>FWYDzmmYzwonnmpbJtBB</td>\n",
       "      <td>7990993298</td>\n",
       "      <td>7947905</td>\n",
       "    </tr>\n",
       "  </tbody>\n",
       "</table>\n",
       "</div>"
      ],
      "text/plain": [
       "   id       name  age                email               address       phone  \\\n",
       "0   0  patient_0   54  patient_0@gmail.com  AZOVOrpkizfUgJXmKXBk  9273052306   \n",
       "1   1  patient_1   40  patient_1@gmail.com  stWWEPfuBZaDaYdcBmdE  1243725756   \n",
       "2   2  patient_2   33  patient_2@gmail.com  ttUjyQvdqdKadGtRCxqG  8135487646   \n",
       "3   3  patient_3   60  patient_3@gmail.com  ZlYtQUpCTKnoNJSlxwOm  4785114259   \n",
       "4   4  patient_4   72  patient_4@gmail.com  FWYDzmmYzwonnmpbJtBB  7990993298   \n",
       "\n",
       "   identity_card  \n",
       "0       74598529  \n",
       "1       99139381  \n",
       "2       14560831  \n",
       "3       57731350  \n",
       "4        7947905  "
      ]
     },
     "execution_count": 5,
     "metadata": {},
     "output_type": "execute_result"
    }
   ],
   "source": [
    "doctor = pd.read_csv('data/doctors.csv')\n",
    "doctor.head()"
   ]
  },
  {
   "cell_type": "code",
   "execution_count": 6,
   "metadata": {},
   "outputs": [],
   "source": [
    "doctor['name'] = doctor['name'].str.replace('patient', 'doctor')\n",
    "doctor['email'] = doctor['email'].str.replace('patient', 'doctor')\n",
    "doctor[':LABEL'] = 'Doctor'"
   ]
  },
  {
   "cell_type": "code",
   "execution_count": 8,
   "metadata": {},
   "outputs": [],
   "source": [
    "doctor.to_csv('data/doctors.csv', index=False)"
   ]
  },
  {
   "cell_type": "code",
   "execution_count": 12,
   "metadata": {},
   "outputs": [],
   "source": [
    "for i in range(11):\n",
    "    patient=  pd.read_csv(f'data/patients_{i}.csv')\n",
    "    patient[':LABEL'] = 'Patient'\n",
    "    patient.to_csv(f'data/patients_{i}.csv', index=False)\n"
   ]
  },
  {
   "cell_type": "code",
   "execution_count": 26,
   "metadata": {},
   "outputs": [],
   "source": [
    "import random\n",
    "import string\n",
    "import csv\n",
    "\n",
    "def generate_random_string(length):\n",
    "    letters = string.ascii_letters\n",
    "    return ''.join(random.choice(letters) for _ in range(length))\n",
    "\n",
    "def generate_random_number(length):\n",
    "    digits = string.digits\n",
    "    return ''.join(random.choice(digits) for _ in range(length))\n",
    "\n",
    "def generate_data_patients(start, end):\n",
    "    data_patients = []\n",
    "    for i in range(start, end):\n",
    "        name = 'patient_' + str(i)\n",
    "        patient = {\n",
    "            'id': str(i),\n",
    "            'name': 'patient_' + str(i),\n",
    "            'age': random.randint(18, 80),\n",
    "            'email': name + '@gmail.com',\n",
    "            'address': generate_random_string(20),\n",
    "            'phone': generate_random_number(10),\n",
    "            'identity_card': generate_random_number(8)\n",
    "        }\n",
    "        data_patients.append(patient)\n",
    "\n",
    "    return data_patients\n",
    "\n",
    "def write_to_csv(list_of_dicts, file_path):\n",
    "    # Extract the keys from the first dictionary in the list\n",
    "    keys = list_of_dicts[0].keys()\n",
    "\n",
    "    # Write the list of dictionaries to a CSV file\n",
    "    with open(file_path, 'w', newline='') as csv_file:\n",
    "        writer = csv.DictWriter(csv_file, fieldnames=keys)\n",
    "        writer.writeheader()  # Write the header row with keys\n",
    "        writer.writerows(list_of_dicts)  # Write the data rows \n",
    "# Generate 100 data patients\n",
    "# data_patients = generate_data_patients(1000000)\n",
    "# write_to_csv(data_patients, 'data\\patients.csv')"
   ]
  },
  {
   "cell_type": "code",
   "execution_count": 11,
   "metadata": {},
   "outputs": [
    {
     "data": {
      "text/plain": [
       "10000000.0"
      ]
     },
     "execution_count": 11,
     "metadata": {},
     "output_type": "execute_result"
    }
   ],
   "source": [
    "1e7"
   ]
  },
  {
   "cell_type": "code",
   "execution_count": 29,
   "metadata": {},
   "outputs": [
    {
     "data": {
      "text/plain": [
       "<enumerate at 0x1a1594ae6c0>"
      ]
     },
     "execution_count": 29,
     "metadata": {},
     "output_type": "execute_result"
    }
   ],
   "source": [
    "enumerate(np.linspace(0, 1e7, 11))\n"
   ]
  },
  {
   "cell_type": "code",
   "execution_count": 30,
   "metadata": {},
   "outputs": [],
   "source": [
    "for i,chunksize in enumerate(np.linspace(0, 1e7, 11)):\n",
    "    data_patients = generate_data_patients(int(chunksize), int(chunksize + 1e6))\n",
    "    write_to_csv(data_patients, f'data\\patients_{i}.csv')"
   ]
  },
  {
   "cell_type": "code",
   "execution_count": 8,
   "metadata": {},
   "outputs": [],
   "source": [
    "def generate_data_doctors(num_doctors):\n",
    "    data_doctors = []\n",
    "    departments = ['Cardiology','Neurology','Oncology','Dermatology','Gynecology','Pediatrics','Psychiatry','Radiology','Surgery','Urology']\n",
    "    specializations = ['Cardiologist','Neurologist','Oncologist','Dermatologist','Gynecologist','Pediatrician','Psychiatrist','Radiologist','Surgeon','Urologist']\n",
    "    for i in range(num_doctors):\n",
    "        name = 'patient_' + str(i)\n",
    "        doctor = {\n",
    "            'id': str(i),\n",
    "            'name': 'doctors_' + str(i),\n",
    "            'age': random.randint(18, 80),\n",
    "            'email': name + '@gmail.com',\n",
    "            'address': generate_random_string(20),\n",
    "            'phone': generate_random_number(10),\n",
    "            'identity_card': generate_random_number(8),\n",
    "            'department': random.choice(departments),\n",
    "            'specialization': random.choice(specializations)\n",
    "            \n",
    "        }\n",
    "        data_doctors.append(doctor)\n",
    "\n",
    "    return data_patients\n",
    "data_patients = generate_data_patients(10000)\n",
    "write_to_csv(data_patients, 'data\\doctors.csv')"
   ]
  },
  {
   "cell_type": "code",
   "execution_count": 10,
   "metadata": {},
   "outputs": [],
   "source": [
    "# patient_df = pd.DataFrame(data = data_patients)\n",
    "# patient_df.to_csv('patients.csv', index=False)"
   ]
  },
  {
   "cell_type": "code",
   "execution_count": null,
   "metadata": {},
   "outputs": [],
   "source": []
  }
 ],
 "metadata": {
  "kernelspec": {
   "display_name": "Python 3",
   "language": "python",
   "name": "python3"
  },
  "language_info": {
   "codemirror_mode": {
    "name": "ipython",
    "version": 3
   },
   "file_extension": ".py",
   "mimetype": "text/x-python",
   "name": "python",
   "nbconvert_exporter": "python",
   "pygments_lexer": "ipython3",
   "version": "3.10.11"
  }
 },
 "nbformat": 4,
 "nbformat_minor": 2
}
