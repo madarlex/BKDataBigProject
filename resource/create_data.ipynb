{
 "cells": [
  {
   "cell_type": "code",
   "execution_count": 1,
   "metadata": {},
   "outputs": [],
   "source": [
    "import numpy as np\n",
    "import pandas as pd"
   ]
  },
  {
   "cell_type": "code",
   "execution_count": null,
   "metadata": {},
   "outputs": [],
   "source": []
  },
  {
   "cell_type": "code",
   "execution_count": 4,
   "metadata": {},
   "outputs": [
    {
     "name": "stdout",
     "output_type": "stream",
     "text": [
      "{'id': 8359, 'name': 'James Elizabeth Williams', 'age': 72, 'email': 'James_Elizabeth_Williams@gmail.com', 'address': 'ZvifUFsGqUQmfwcpfERV', 'phone': '7100940004', 'identity_card': '54123056'}\n",
      "{'id': 9148, 'name': 'James James Miller', 'age': 69, 'email': 'James_James_Miller@gmail.com', 'address': 'MwdKSVkLpvxwRBBbpiHc', 'phone': '2424717593', 'identity_card': '20517564'}\n",
      "{'id': 6251, 'name': 'William Elizabeth Jones', 'age': 44, 'email': 'William_Elizabeth_Jones@gmail.com', 'address': 'WjpHVdjLWtaCAiwfhCPW', 'phone': '1129270824', 'identity_card': '51411420'}\n",
      "{'id': 1698, 'name': 'Sarah Grace Johnson', 'age': 59, 'email': 'Sarah_Grace_Johnson@gmail.com', 'address': 'PxTrqtANFjooLyUcBzTL', 'phone': '0595825007', 'identity_card': '80547251'}\n",
      "{'id': 5351, 'name': 'Emily Michael Brown', 'age': 41, 'email': 'Emily_Michael_Brown@gmail.com', 'address': 'IWCUczYvFqNhUNtctnlp', 'phone': '4465704969', 'identity_card': '53539074'}\n",
      "{'id': 5681, 'name': 'Mary Michael Johnson', 'age': 34, 'email': 'Mary_Michael_Johnson@gmail.com', 'address': 'lKSCampOKiQBehkghFYZ', 'phone': '7030898035', 'identity_card': '63715676'}\n",
      "{'id': 6763, 'name': 'Emily Lee Jones', 'age': 39, 'email': 'Emily_Lee_Jones@gmail.com', 'address': 'jYhFgtbhqLRhitwQYVEd', 'phone': '2091949011', 'identity_card': '38955416'}\n",
      "{'id': 5897, 'name': 'Michael James Wilson', 'age': 38, 'email': 'Michael_James_Wilson@gmail.com', 'address': 'IGcEpKbOuUioJkqnRpjq', 'phone': '5069610502', 'identity_card': '65516202'}\n",
      "{'id': 677, 'name': 'James Lee Jones', 'age': 22, 'email': 'James_Lee_Jones@gmail.com', 'address': 'FnNugsUmfBnBYxjtbvft', 'phone': '0613994517', 'identity_card': '26507369'}\n",
      "{'id': 6162, 'name': 'Sarah Michael Davis', 'age': 71, 'email': 'Sarah_Michael_Davis@gmail.com', 'address': 'hJIOkytXkmTBGOfJLwmo', 'phone': '5187412157', 'identity_card': '19957082'}\n"
     ]
    }
   ],
   "source": [
    "import random\n",
    "import string\n",
    "\n",
    "def generate_random_string(length):\n",
    "    letters = string.ascii_letters\n",
    "    return ''.join(random.choice(letters) for _ in range(length))\n",
    "\n",
    "def generate_random_number(length):\n",
    "    digits = string.digits\n",
    "    return ''.join(random.choice(digits) for _ in range(length))\n",
    "\n",
    "def generate_data_patients(num_patients):\n",
    "    data_patients = []\n",
    "    first_names = ['John','Mary','Michael','Jennifer','William','Elizabeth','James','Sarah','David','Emily']\n",
    "\n",
    "    middle_names = ['Anne','Marie','Lee','Elizabeth','James','Lynn','Grace','Michael','Rose','Joseph']\n",
    "    last_names = ['Smith','Johnson','Williams','Brown','Jones','Miller','Davis','Garcia','Rodriguez','Wilson']\n",
    "\n",
    "    for _ in range(num_patients):\n",
    "        name = random.choice(first_names) +' '+ random.choice(middle_names) +' '+ random.choice(last_names)\n",
    "        patient = {\n",
    "            'id': random.randint(1, 10000),\n",
    "            'name': name,\n",
    "            'age': random.randint(18, 80),\n",
    "            'email': name.replace(' ','_') + '@gmail.com',\n",
    "            'address': generate_random_string(20),\n",
    "            'phone': generate_random_number(10),\n",
    "            'identity_card': generate_random_number(8)\n",
    "        }\n",
    "        data_patients.append(patient)\n",
    "\n",
    "    return data_patients\n",
    "\n",
    "# Generate 100 data patients\n",
    "data_patients = generate_data_patients(10)\n",
    "\n",
    "# Print the generated data patients\n",
    "for patient in data_patients:\n",
    "    print(patient)"
   ]
  },
  {
   "cell_type": "code",
   "execution_count": 10,
   "metadata": {},
   "outputs": [],
   "source": [
    "patient_df = pd.DataFrame(data = data_patients)\n",
    "patient_df.to_csv('patients.csv', index=False)"
   ]
  }
 ],
 "metadata": {
  "kernelspec": {
   "display_name": "Python 3",
   "language": "python",
   "name": "python3"
  },
  "language_info": {
   "codemirror_mode": {
    "name": "ipython",
    "version": 3
   },
   "file_extension": ".py",
   "mimetype": "text/x-python",
   "name": "python",
   "nbconvert_exporter": "python",
   "pygments_lexer": "ipython3",
   "version": "3.10.11"
  }
 },
 "nbformat": 4,
 "nbformat_minor": 2
}
